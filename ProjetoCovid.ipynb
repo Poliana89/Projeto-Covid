{
  "nbformat": 4,
  "nbformat_minor": 0,
  "metadata": {
    "colab": {
      "provenance": []
    },
    "kernelspec": {
      "name": "python3",
      "display_name": "Python 3"
    }
  },
  "cells": [
    {
      "cell_type": "markdown",
      "metadata": {
        "id": "d9jDtUbDOE1-"
      },
      "source": [
        "# **Tópicos**\n",
        "\n",
        "<ol type=\"1\">\n",
        "  <li>Introdução;</li>\n",
        "  <li>Análise Exploratória de Dados;</li>\n",
        "  <li>Visualização Interativa de Dados;</li>\n",
        "  <li>Storytelling.</li>\n",
        "</ol>"
      ]
    },
    {
      "cell_type": "markdown",
      "metadata": {
        "id": "SmoHgt-lwkpD"
      },
      "source": [
        "---"
      ]
    },
    {
      "cell_type": "markdown",
      "metadata": {
        "id": "muD1vxozykSC"
      },
      "source": [
        "## 1\\. Introdução"
      ]
    },
    {
      "cell_type": "markdown",
      "metadata": {
        "id": "MHESfVrl-rPV"
      },
      "source": [
        "### **1.1. TLDR**"
      ]
    },
    {
      "cell_type": "markdown",
      "source": [
        " - **Dashboard**:\n",
        "  - Google Data Studio (https://lookerstudio.google.com/reporting/5c6938c2-abc5-4cb7-85ca-c39d88ccf726).\n",
        "\n",
        " - **Fontes**:\n",
        "  - Casos pela universidade John Hopkins ([link](https://github.com/CSSEGISandData/COVID-19/tree/master/csse_covid_19_data/csse_covid_19_daily_reports));\n",
        "  - Vacinação pela universidade de Oxford ([link](https://covid.ourworldindata.org/data/owid-covid-data.csv))."
      ],
      "metadata": {
        "id": "Kbt89uW55ynj"
      }
    },
    {
      "cell_type": "markdown",
      "source": [
        "### **1.2. Pandemia Coronavírus 2019**"
      ],
      "metadata": {
        "id": "uBq6aQxeB4r0"
      }
    },
    {
      "cell_type": "markdown",
      "source": [
        "> A COVID-19 é uma infecção respiratória aguda causada pelo coronavírus SARS-CoV-2, potencialmente grave, de elevada transmissibilidade e de distribuição global. Fonte: Governo brasileiro ([link](https://www.gov.br/saude/pt-br/coronavirus/o-que-e-o-coronavirus))."
      ],
      "metadata": {
        "id": "caKO04G0tzxc"
      }
    },
    {
      "cell_type": "markdown",
      "metadata": {
        "id": "UrsxlQhH7WrD"
      },
      "source": [
        "A disponibilidade de dados sobre a evolução da pandemia no tempo em uma determinada região geográfica é fundamental para o seu combate! Este projeto busca construir um dashboard de dados para exploração e visualização interativa de dados sobre o avanço de casos e da vacinação do Brasil. O processamento de dados está neste `link` e o dashboard, neste `link`."
      ]
    },
    {
      "cell_type": "markdown",
      "source": [
        "### **1.3. Dados**"
      ],
      "metadata": {
        "id": "oo-6n3_GH0CT"
      }
    },
    {
      "cell_type": "markdown",
      "source": [
        "Os dados sobre **casos da COVID-19** são compilados pelo centro de ciência de sistemas e engenharia da universidade americana **John Hopkins** ([link](https://www.jhu.edu)). Os dados são atualizados diariamente deste janeiro de 2020 com uma granularidade temporal de dias e geográfica de regiões de países (estados, condados, etc.). O website do projeto pode ser acessado neste [link](https://systems.jhu.edu/research/public-health/ncov/) enquanto os dados, neste [link](https://github.com/CSSEGISandData/COVID-19/tree/master/csse_covid_19_data/csse_covid_19_daily_reports). Abaixo estão descritos os dados derivados do seu processamento."
      ],
      "metadata": {
        "id": "q9Kj_d3c3Hmd"
      }
    },
    {
      "cell_type": "markdown",
      "source": [
        " - **date**: data de referência;\n",
        " - **state**: estado;\n",
        " - **country**: país;\n",
        " - **population**: população estimada;\n",
        " - **confirmed**: número acumulado de infectados;\n",
        " - **confirmed_1d**: número diário de infectados;\n",
        " - **confirmed_moving_avg_7d**: média móvel de 7 dias do número diário de infectados;\n",
        " - **confirmed_moving_avg_7d_rate_14d**: média móvel de 7 dias dividido pela média móvel de 7 dias de 14 dias atrás;\n",
        " - **deaths**: número acumulado de mortos;\n",
        " - **deaths_1d**: número diário de mortos;\n",
        " - **deaths_moving_avg_7d**: média móvel de 7 dias do número diário de mortos;\n",
        " - **deaths_moving_avg_7d**: média móvel de 7 dias dividido pela média móvel de 7 dias de 14 dias atrás;\n",
        " - **month**: mês de referência;\n",
        " - **year**: ano de referência."
      ],
      "metadata": {
        "id": "7hKS37TRwvG7"
      }
    },
    {
      "cell_type": "markdown",
      "source": [
        "Os dados sobre **vacinação da COVID-19** são compilados pelo projeto Nosso Mundo em Dados (*Our World in Data* ou OWID) da universidade britânica de **Oxford** ([link](https://www.ox.ac.uk)). Os dados são **atualizados diariamente** deste janeiro de 2020 com uma **granularidade temporal de dias e geográfica de países**. O website do projeto pode ser acessado neste [link](https://ourworldindata.org) enquanto os dados, neste [link](https://covid.ourworldindata.org/data/owid-covid-data.csv). Abaixo estão descritos os dados derivados do seu processamento."
      ],
      "metadata": {
        "id": "Io6Yn0Yi7woI"
      }
    },
    {
      "cell_type": "markdown",
      "source": [
        " - **date**: data de referência;\n",
        " - **country**: país;\n",
        " - **population**: população estimada;\n",
        " - **total**: número acumulado de doses administradas;\n",
        " - **one_shot**: número acumulado de pessoas com uma dose;\n",
        " - **one_shot_perc**: número acumulado relativo de pessoas com uma dose;\n",
        " - **two_shots**: número acumulado de pessoas com duas doses;\n",
        " - **two_shot_perc**: número acumulado relativo de pessoas com duas doses;\n",
        " - **three_shots**: número acumulado de pessoas com três doses;\n",
        " - **three_shot_perc**: número acumulado relativo de pessoas com três doses;\n",
        " - **month**: mês de referência;\n",
        " - **year**: ano de referência."
      ],
      "metadata": {
        "id": "oF5oDfm07woK"
      }
    },
    {
      "cell_type": "markdown",
      "source": [
        "## 2\\. Análise Exploratória de Dados"
      ],
      "metadata": {
        "id": "EkVv4SCzIrxS"
      }
    },
    {
      "cell_type": "markdown",
      "source": [
        "Nesta sessão vamos utilizar os seguintes pacotes Python para processar os dados bruto em um formato adequado para um painel para exploração interativa de dados."
      ],
      "metadata": {
        "id": "5qb_q_g0W1xq"
      }
    },
    {
      "cell_type": "code",
      "metadata": {
        "id": "1X3WC_QYUlAz"
      },
      "source": [
        "import math\n",
        "from typing import Iterator\n",
        "from datetime import datetime, timedelta\n",
        "\n",
        "import numpy as np\n",
        "import pandas as pd"
      ],
      "execution_count": 1,
      "outputs": []
    },
    {
      "cell_type": "markdown",
      "source": [
        "### **2.1. Casos**"
      ],
      "metadata": {
        "id": "aP2Dlk9kOqCf"
      }
    },
    {
      "cell_type": "markdown",
      "source": [
        "Vamos processar os dados de **casos** da universidade John Hopkins.\n",
        "\n"
      ],
      "metadata": {
        "id": "8L5p6NGWaeSi"
      }
    },
    {
      "cell_type": "markdown",
      "source": [
        "#### **2.1.1. Extração**"
      ],
      "metadata": {
        "id": "Nd159jDC8Dm-"
      }
    },
    {
      "cell_type": "markdown",
      "source": [
        "O dado está compilado em um arquivo por dia, exemplo para 2021/12/01."
      ],
      "metadata": {
        "id": "QvRDLv8xVm7Y"
      }
    },
    {
      "cell_type": "code",
      "source": [
        "cases = pd.read_csv('https://raw.githubusercontent.com/CSSEGISandData/COVID-19/master/csse_covid_19_data/csse_covid_19_daily_reports/01-12-2021.csv', sep=',')"
      ],
      "metadata": {
        "id": "GmsdWZKzKWup"
      },
      "execution_count": 2,
      "outputs": []
    },
    {
      "cell_type": "code",
      "source": [
        "cases.head()"
      ],
      "metadata": {
        "id": "bHg1MA4AKaeC",
        "colab": {
          "base_uri": "https://localhost:8080/",
          "height": 206
        },
        "outputId": "ab07efd9-a38f-4b23-eefe-483831aaf41d"
      },
      "execution_count": 3,
      "outputs": [
        {
          "output_type": "execute_result",
          "data": {
            "text/plain": [
              "   FIPS Admin2 Province_State Country_Region          Last_Update       Lat  \\\n",
              "0   NaN    NaN            NaN    Afghanistan  2021-01-13 05:22:15  33.93911   \n",
              "1   NaN    NaN            NaN        Albania  2021-01-13 05:22:15  41.15330   \n",
              "2   NaN    NaN            NaN        Algeria  2021-01-13 05:22:15  28.03390   \n",
              "3   NaN    NaN            NaN        Andorra  2021-01-13 05:22:15  42.50630   \n",
              "4   NaN    NaN            NaN         Angola  2021-01-13 05:22:15 -11.20270   \n",
              "\n",
              "       Long_  Confirmed  Deaths  Recovered  Active Combined_Key  \\\n",
              "0  67.709953      53584    2301      44608    6675  Afghanistan   \n",
              "1  20.168300      64627    1252      38421   24954      Albania   \n",
              "2   1.659600     102641    2816      69608   30217      Algeria   \n",
              "3   1.521800       8682      86       7930     666      Andorra   \n",
              "4  17.873900      18343     422      15512    2409       Angola   \n",
              "\n",
              "   Incident_Rate  Case_Fatality_Ratio  \n",
              "0     137.647787             4.294192  \n",
              "1    2245.708527             1.937271  \n",
              "2     234.067409             2.743543  \n",
              "3   11236.653077             0.990555  \n",
              "4      55.811022             2.300605  "
            ],
            "text/html": [
              "\n",
              "  <div id=\"df-f78428bc-4c79-43cd-9343-f4a81712f372\" class=\"colab-df-container\">\n",
              "    <div>\n",
              "<style scoped>\n",
              "    .dataframe tbody tr th:only-of-type {\n",
              "        vertical-align: middle;\n",
              "    }\n",
              "\n",
              "    .dataframe tbody tr th {\n",
              "        vertical-align: top;\n",
              "    }\n",
              "\n",
              "    .dataframe thead th {\n",
              "        text-align: right;\n",
              "    }\n",
              "</style>\n",
              "<table border=\"1\" class=\"dataframe\">\n",
              "  <thead>\n",
              "    <tr style=\"text-align: right;\">\n",
              "      <th></th>\n",
              "      <th>FIPS</th>\n",
              "      <th>Admin2</th>\n",
              "      <th>Province_State</th>\n",
              "      <th>Country_Region</th>\n",
              "      <th>Last_Update</th>\n",
              "      <th>Lat</th>\n",
              "      <th>Long_</th>\n",
              "      <th>Confirmed</th>\n",
              "      <th>Deaths</th>\n",
              "      <th>Recovered</th>\n",
              "      <th>Active</th>\n",
              "      <th>Combined_Key</th>\n",
              "      <th>Incident_Rate</th>\n",
              "      <th>Case_Fatality_Ratio</th>\n",
              "    </tr>\n",
              "  </thead>\n",
              "  <tbody>\n",
              "    <tr>\n",
              "      <th>0</th>\n",
              "      <td>NaN</td>\n",
              "      <td>NaN</td>\n",
              "      <td>NaN</td>\n",
              "      <td>Afghanistan</td>\n",
              "      <td>2021-01-13 05:22:15</td>\n",
              "      <td>33.93911</td>\n",
              "      <td>67.709953</td>\n",
              "      <td>53584</td>\n",
              "      <td>2301</td>\n",
              "      <td>44608</td>\n",
              "      <td>6675</td>\n",
              "      <td>Afghanistan</td>\n",
              "      <td>137.647787</td>\n",
              "      <td>4.294192</td>\n",
              "    </tr>\n",
              "    <tr>\n",
              "      <th>1</th>\n",
              "      <td>NaN</td>\n",
              "      <td>NaN</td>\n",
              "      <td>NaN</td>\n",
              "      <td>Albania</td>\n",
              "      <td>2021-01-13 05:22:15</td>\n",
              "      <td>41.15330</td>\n",
              "      <td>20.168300</td>\n",
              "      <td>64627</td>\n",
              "      <td>1252</td>\n",
              "      <td>38421</td>\n",
              "      <td>24954</td>\n",
              "      <td>Albania</td>\n",
              "      <td>2245.708527</td>\n",
              "      <td>1.937271</td>\n",
              "    </tr>\n",
              "    <tr>\n",
              "      <th>2</th>\n",
              "      <td>NaN</td>\n",
              "      <td>NaN</td>\n",
              "      <td>NaN</td>\n",
              "      <td>Algeria</td>\n",
              "      <td>2021-01-13 05:22:15</td>\n",
              "      <td>28.03390</td>\n",
              "      <td>1.659600</td>\n",
              "      <td>102641</td>\n",
              "      <td>2816</td>\n",
              "      <td>69608</td>\n",
              "      <td>30217</td>\n",
              "      <td>Algeria</td>\n",
              "      <td>234.067409</td>\n",
              "      <td>2.743543</td>\n",
              "    </tr>\n",
              "    <tr>\n",
              "      <th>3</th>\n",
              "      <td>NaN</td>\n",
              "      <td>NaN</td>\n",
              "      <td>NaN</td>\n",
              "      <td>Andorra</td>\n",
              "      <td>2021-01-13 05:22:15</td>\n",
              "      <td>42.50630</td>\n",
              "      <td>1.521800</td>\n",
              "      <td>8682</td>\n",
              "      <td>86</td>\n",
              "      <td>7930</td>\n",
              "      <td>666</td>\n",
              "      <td>Andorra</td>\n",
              "      <td>11236.653077</td>\n",
              "      <td>0.990555</td>\n",
              "    </tr>\n",
              "    <tr>\n",
              "      <th>4</th>\n",
              "      <td>NaN</td>\n",
              "      <td>NaN</td>\n",
              "      <td>NaN</td>\n",
              "      <td>Angola</td>\n",
              "      <td>2021-01-13 05:22:15</td>\n",
              "      <td>-11.20270</td>\n",
              "      <td>17.873900</td>\n",
              "      <td>18343</td>\n",
              "      <td>422</td>\n",
              "      <td>15512</td>\n",
              "      <td>2409</td>\n",
              "      <td>Angola</td>\n",
              "      <td>55.811022</td>\n",
              "      <td>2.300605</td>\n",
              "    </tr>\n",
              "  </tbody>\n",
              "</table>\n",
              "</div>\n",
              "    <div class=\"colab-df-buttons\">\n",
              "\n",
              "  <div class=\"colab-df-container\">\n",
              "    <button class=\"colab-df-convert\" onclick=\"convertToInteractive('df-f78428bc-4c79-43cd-9343-f4a81712f372')\"\n",
              "            title=\"Convert this dataframe to an interactive table.\"\n",
              "            style=\"display:none;\">\n",
              "\n",
              "  <svg xmlns=\"http://www.w3.org/2000/svg\" height=\"24px\" viewBox=\"0 -960 960 960\">\n",
              "    <path d=\"M120-120v-720h720v720H120Zm60-500h600v-160H180v160Zm220 220h160v-160H400v160Zm0 220h160v-160H400v160ZM180-400h160v-160H180v160Zm440 0h160v-160H620v160ZM180-180h160v-160H180v160Zm440 0h160v-160H620v160Z\"/>\n",
              "  </svg>\n",
              "    </button>\n",
              "\n",
              "  <style>\n",
              "    .colab-df-container {\n",
              "      display:flex;\n",
              "      gap: 12px;\n",
              "    }\n",
              "\n",
              "    .colab-df-convert {\n",
              "      background-color: #E8F0FE;\n",
              "      border: none;\n",
              "      border-radius: 50%;\n",
              "      cursor: pointer;\n",
              "      display: none;\n",
              "      fill: #1967D2;\n",
              "      height: 32px;\n",
              "      padding: 0 0 0 0;\n",
              "      width: 32px;\n",
              "    }\n",
              "\n",
              "    .colab-df-convert:hover {\n",
              "      background-color: #E2EBFA;\n",
              "      box-shadow: 0px 1px 2px rgba(60, 64, 67, 0.3), 0px 1px 3px 1px rgba(60, 64, 67, 0.15);\n",
              "      fill: #174EA6;\n",
              "    }\n",
              "\n",
              "    .colab-df-buttons div {\n",
              "      margin-bottom: 4px;\n",
              "    }\n",
              "\n",
              "    [theme=dark] .colab-df-convert {\n",
              "      background-color: #3B4455;\n",
              "      fill: #D2E3FC;\n",
              "    }\n",
              "\n",
              "    [theme=dark] .colab-df-convert:hover {\n",
              "      background-color: #434B5C;\n",
              "      box-shadow: 0px 1px 3px 1px rgba(0, 0, 0, 0.15);\n",
              "      filter: drop-shadow(0px 1px 2px rgba(0, 0, 0, 0.3));\n",
              "      fill: #FFFFFF;\n",
              "    }\n",
              "  </style>\n",
              "\n",
              "    <script>\n",
              "      const buttonEl =\n",
              "        document.querySelector('#df-f78428bc-4c79-43cd-9343-f4a81712f372 button.colab-df-convert');\n",
              "      buttonEl.style.display =\n",
              "        google.colab.kernel.accessAllowed ? 'block' : 'none';\n",
              "\n",
              "      async function convertToInteractive(key) {\n",
              "        const element = document.querySelector('#df-f78428bc-4c79-43cd-9343-f4a81712f372');\n",
              "        const dataTable =\n",
              "          await google.colab.kernel.invokeFunction('convertToInteractive',\n",
              "                                                    [key], {});\n",
              "        if (!dataTable) return;\n",
              "\n",
              "        const docLinkHtml = 'Like what you see? Visit the ' +\n",
              "          '<a target=\"_blank\" href=https://colab.research.google.com/notebooks/data_table.ipynb>data table notebook</a>'\n",
              "          + ' to learn more about interactive tables.';\n",
              "        element.innerHTML = '';\n",
              "        dataTable['output_type'] = 'display_data';\n",
              "        await google.colab.output.renderOutput(dataTable, element);\n",
              "        const docLink = document.createElement('div');\n",
              "        docLink.innerHTML = docLinkHtml;\n",
              "        element.appendChild(docLink);\n",
              "      }\n",
              "    </script>\n",
              "  </div>\n",
              "\n",
              "\n",
              "<div id=\"df-d2e9b57b-1dc7-4731-b67f-ee6e3c590a7e\">\n",
              "  <button class=\"colab-df-quickchart\" onclick=\"quickchart('df-d2e9b57b-1dc7-4731-b67f-ee6e3c590a7e')\"\n",
              "            title=\"Suggest charts\"\n",
              "            style=\"display:none;\">\n",
              "\n",
              "<svg xmlns=\"http://www.w3.org/2000/svg\" height=\"24px\"viewBox=\"0 0 24 24\"\n",
              "     width=\"24px\">\n",
              "    <g>\n",
              "        <path d=\"M19 3H5c-1.1 0-2 .9-2 2v14c0 1.1.9 2 2 2h14c1.1 0 2-.9 2-2V5c0-1.1-.9-2-2-2zM9 17H7v-7h2v7zm4 0h-2V7h2v10zm4 0h-2v-4h2v4z\"/>\n",
              "    </g>\n",
              "</svg>\n",
              "  </button>\n",
              "\n",
              "<style>\n",
              "  .colab-df-quickchart {\n",
              "      --bg-color: #E8F0FE;\n",
              "      --fill-color: #1967D2;\n",
              "      --hover-bg-color: #E2EBFA;\n",
              "      --hover-fill-color: #174EA6;\n",
              "      --disabled-fill-color: #AAA;\n",
              "      --disabled-bg-color: #DDD;\n",
              "  }\n",
              "\n",
              "  [theme=dark] .colab-df-quickchart {\n",
              "      --bg-color: #3B4455;\n",
              "      --fill-color: #D2E3FC;\n",
              "      --hover-bg-color: #434B5C;\n",
              "      --hover-fill-color: #FFFFFF;\n",
              "      --disabled-bg-color: #3B4455;\n",
              "      --disabled-fill-color: #666;\n",
              "  }\n",
              "\n",
              "  .colab-df-quickchart {\n",
              "    background-color: var(--bg-color);\n",
              "    border: none;\n",
              "    border-radius: 50%;\n",
              "    cursor: pointer;\n",
              "    display: none;\n",
              "    fill: var(--fill-color);\n",
              "    height: 32px;\n",
              "    padding: 0;\n",
              "    width: 32px;\n",
              "  }\n",
              "\n",
              "  .colab-df-quickchart:hover {\n",
              "    background-color: var(--hover-bg-color);\n",
              "    box-shadow: 0 1px 2px rgba(60, 64, 67, 0.3), 0 1px 3px 1px rgba(60, 64, 67, 0.15);\n",
              "    fill: var(--button-hover-fill-color);\n",
              "  }\n",
              "\n",
              "  .colab-df-quickchart-complete:disabled,\n",
              "  .colab-df-quickchart-complete:disabled:hover {\n",
              "    background-color: var(--disabled-bg-color);\n",
              "    fill: var(--disabled-fill-color);\n",
              "    box-shadow: none;\n",
              "  }\n",
              "\n",
              "  .colab-df-spinner {\n",
              "    border: 2px solid var(--fill-color);\n",
              "    border-color: transparent;\n",
              "    border-bottom-color: var(--fill-color);\n",
              "    animation:\n",
              "      spin 1s steps(1) infinite;\n",
              "  }\n",
              "\n",
              "  @keyframes spin {\n",
              "    0% {\n",
              "      border-color: transparent;\n",
              "      border-bottom-color: var(--fill-color);\n",
              "      border-left-color: var(--fill-color);\n",
              "    }\n",
              "    20% {\n",
              "      border-color: transparent;\n",
              "      border-left-color: var(--fill-color);\n",
              "      border-top-color: var(--fill-color);\n",
              "    }\n",
              "    30% {\n",
              "      border-color: transparent;\n",
              "      border-left-color: var(--fill-color);\n",
              "      border-top-color: var(--fill-color);\n",
              "      border-right-color: var(--fill-color);\n",
              "    }\n",
              "    40% {\n",
              "      border-color: transparent;\n",
              "      border-right-color: var(--fill-color);\n",
              "      border-top-color: var(--fill-color);\n",
              "    }\n",
              "    60% {\n",
              "      border-color: transparent;\n",
              "      border-right-color: var(--fill-color);\n",
              "    }\n",
              "    80% {\n",
              "      border-color: transparent;\n",
              "      border-right-color: var(--fill-color);\n",
              "      border-bottom-color: var(--fill-color);\n",
              "    }\n",
              "    90% {\n",
              "      border-color: transparent;\n",
              "      border-bottom-color: var(--fill-color);\n",
              "    }\n",
              "  }\n",
              "</style>\n",
              "\n",
              "  <script>\n",
              "    async function quickchart(key) {\n",
              "      const quickchartButtonEl =\n",
              "        document.querySelector('#' + key + ' button');\n",
              "      quickchartButtonEl.disabled = true;  // To prevent multiple clicks.\n",
              "      quickchartButtonEl.classList.add('colab-df-spinner');\n",
              "      try {\n",
              "        const charts = await google.colab.kernel.invokeFunction(\n",
              "            'suggestCharts', [key], {});\n",
              "      } catch (error) {\n",
              "        console.error('Error during call to suggestCharts:', error);\n",
              "      }\n",
              "      quickchartButtonEl.classList.remove('colab-df-spinner');\n",
              "      quickchartButtonEl.classList.add('colab-df-quickchart-complete');\n",
              "    }\n",
              "    (() => {\n",
              "      let quickchartButtonEl =\n",
              "        document.querySelector('#df-d2e9b57b-1dc7-4731-b67f-ee6e3c590a7e button');\n",
              "      quickchartButtonEl.style.display =\n",
              "        google.colab.kernel.accessAllowed ? 'block' : 'none';\n",
              "    })();\n",
              "  </script>\n",
              "</div>\n",
              "\n",
              "    </div>\n",
              "  </div>\n"
            ],
            "application/vnd.google.colaboratory.intrinsic+json": {
              "type": "dataframe",
              "variable_name": "cases",
              "summary": "{\n  \"name\": \"cases\",\n  \"rows\": 4012,\n  \"fields\": [\n    {\n      \"column\": \"FIPS\",\n      \"properties\": {\n        \"dtype\": \"number\",\n        \"std\": 18017.29453954429,\n        \"min\": 66.0,\n        \"max\": 99999.0,\n        \"num_unique_values\": 3265,\n        \"samples\": [\n          30021.0,\n          5039.0,\n          13025.0\n        ],\n        \"semantic_type\": \"\",\n        \"description\": \"\"\n      }\n    },\n    {\n      \"column\": \"Admin2\",\n      \"properties\": {\n        \"dtype\": \"category\",\n        \"num_unique_values\": 1925,\n        \"samples\": [\n          \"Klickitat\",\n          \"Cooke\",\n          \"Monona\"\n        ],\n        \"semantic_type\": \"\",\n        \"description\": \"\"\n      }\n    },\n    {\n      \"column\": \"Province_State\",\n      \"properties\": {\n        \"dtype\": \"category\",\n        \"num_unique_values\": 597,\n        \"samples\": [\n          \"Xinjiang\",\n          \"Arizona\",\n          \"Quindio\"\n        ],\n        \"semantic_type\": \"\",\n        \"description\": \"\"\n      }\n    },\n    {\n      \"column\": \"Country_Region\",\n      \"properties\": {\n        \"dtype\": \"category\",\n        \"num_unique_values\": 200,\n        \"samples\": [\n          \"Laos\",\n          \"Belarus\",\n          \"Cambodia\"\n        ],\n        \"semantic_type\": \"\",\n        \"description\": \"\"\n      }\n    },\n    {\n      \"column\": \"Last_Update\",\n      \"properties\": {\n        \"dtype\": \"object\",\n        \"num_unique_values\": 6,\n        \"samples\": [\n          \"2021-01-13 05:22:15\",\n          \"2020-12-21 13:27:30\",\n          \"2021-04-02 15:13:53\"\n        ],\n        \"semantic_type\": \"\",\n        \"description\": \"\"\n      }\n    },\n    {\n      \"column\": \"Lat\",\n      \"properties\": {\n        \"dtype\": \"number\",\n        \"std\": 13.41338967379597,\n        \"min\": -71.9499,\n        \"max\": 71.7069,\n        \"num_unique_values\": 3922,\n        \"samples\": [\n          27.7610369,\n          -16.860271,\n          35.88494195\n        ],\n        \"semantic_type\": \"\",\n        \"description\": \"\"\n      }\n    },\n    {\n      \"column\": \"Long_\",\n      \"properties\": {\n        \"dtype\": \"number\",\n        \"std\": 55.239728685737774,\n        \"min\": -178.1165,\n        \"max\": 178.065,\n        \"num_unique_values\": 3912,\n        \"samples\": [\n          -66.264131,\n          -95.00586446,\n          -103.4123733\n        ],\n        \"semantic_type\": \"\",\n        \"description\": \"\"\n      }\n    },\n    {\n      \"column\": \"Confirmed\",\n      \"properties\": {\n        \"dtype\": \"number\",\n        \"std\": 114710,\n        \"min\": 0,\n        \"max\": 2800770,\n        \"num_unique_values\": 3143,\n        \"samples\": [\n          29332,\n          1886,\n          2121\n        ],\n        \"semantic_type\": \"\",\n        \"description\": \"\"\n      }\n    },\n    {\n      \"column\": \"Deaths\",\n      \"properties\": {\n        \"dtype\": \"number\",\n        \"std\": 3021,\n        \"min\": 0,\n        \"max\": 91626,\n        \"num_unique_values\": 814,\n        \"samples\": [\n          10,\n          466,\n          850\n        ],\n        \"semantic_type\": \"\",\n        \"description\": \"\"\n      }\n    },\n    {\n      \"column\": \"Recovered\",\n      \"properties\": {\n        \"dtype\": \"number\",\n        \"std\": 86741,\n        \"min\": 0,\n        \"max\": 2218464,\n        \"num_unique_values\": 589,\n        \"samples\": [\n          13215,\n          64712,\n          3905\n        ],\n        \"semantic_type\": \"\",\n        \"description\": \"\"\n      }\n    },\n    {\n      \"column\": \"Active\",\n      \"properties\": {\n        \"dtype\": \"number\",\n        \"std\": 65620,\n        \"min\": 0,\n        \"max\": 2674400,\n        \"num_unique_values\": 3014,\n        \"samples\": [\n          166,\n          3209,\n          928\n        ],\n        \"semantic_type\": \"\",\n        \"description\": \"\"\n      }\n    },\n    {\n      \"column\": \"Combined_Key\",\n      \"properties\": {\n        \"dtype\": \"string\",\n        \"num_unique_values\": 4012,\n        \"samples\": [\n          \"McLean, Kentucky, US\",\n          \"W.P. Putrajaya, Malaysia\",\n          \"Carroll, Indiana, US\"\n        ],\n        \"semantic_type\": \"\",\n        \"description\": \"\"\n      }\n    },\n    {\n      \"column\": \"Incident_Rate\",\n      \"properties\": {\n        \"dtype\": \"number\",\n        \"std\": 3421.1290742843853,\n        \"min\": 0.0,\n        \"max\": 27817.19188252764,\n        \"num_unique_values\": 3905,\n        \"samples\": [\n          5258.343322187875,\n          8440.81599903717,\n          6138.339543326646\n        ],\n        \"semantic_type\": \"\",\n        \"description\": \"\"\n      }\n    },\n    {\n      \"column\": \"Case_Fatality_Ratio\",\n      \"properties\": {\n        \"dtype\": \"number\",\n        \"std\": 27.179479074994873,\n        \"min\": 0.0,\n        \"max\": 1654.7169811320755,\n        \"num_unique_values\": 3511,\n        \"samples\": [\n          0.7761469299930839,\n          0.3937007874015748,\n          1.8433179723502304\n        ],\n        \"semantic_type\": \"\",\n        \"description\": \"\"\n      }\n    }\n  ]\n}"
            }
          },
          "metadata": {},
          "execution_count": 3
        }
      ]
    },
    {
      "cell_type": "markdown",
      "source": [
        "Portanto, precisaremos iterar dentro de um intervalo de tempo definido para extraí-lo."
      ],
      "metadata": {
        "id": "XoGYHPcoKXSV"
      }
    },
    {
      "cell_type": "code",
      "source": [
        "def date_range(start_date: datetime, end_date: datetime) -> Iterator[datetime]:\n",
        "    \"\"\"\n",
        "    Função geradora que produz um iterador com todas as datas entre duas datas fornecidas.\n",
        "\n",
        "    Args:\n",
        "        start_date (datetime): A data de início (inclusive).\n",
        "        end_date (datetime): A data de fim (não inclusive).\n",
        "\n",
        "    Yields:\n",
        "        datetime: Uma data dentro do intervalo especificado.\n",
        "    \"\"\"\n",
        "\n",
        "    # Calcula o número de dias entre as datas de início e fim.\n",
        "    date_range_days: int = (end_date - start_date).days\n",
        "\n",
        "    # Itera sobre cada dia dentro do intervalo.\n",
        "    for lag in range(date_range_days):\n",
        "        # Calcula a próxima data somando o deslocamento `lag` (em dias) à data de início.\n",
        "        yield start_date + timedelta(lag)"
      ],
      "metadata": {
        "id": "yvNNHQWjF1LI"
      },
      "execution_count": 4,
      "outputs": []
    },
    {
      "cell_type": "code",
      "source": [
        "start_date = datetime(2021,  1,  1)\n",
        "end_date   = datetime(2021, 12, 31)"
      ],
      "metadata": {
        "id": "pUnc9yv5ISm1"
      },
      "execution_count": 5,
      "outputs": []
    },
    {
      "cell_type": "markdown",
      "source": [
        "De maneira iterativa, vamos selecionar as colunas de interesse e as linhas referentes ao Brasil."
      ],
      "metadata": {
        "id": "EqAuJfCkWKiz"
      }
    },
    {
      "cell_type": "code",
      "source": [
        "cases = None\n",
        "cases_is_empty = True\n",
        "\n",
        "for date in date_range(start_date=start_date, end_date=end_date):\n",
        "\n",
        "    date_str = date.strftime('%m-%d-%Y')\n",
        "    data_source_url = f'https://raw.githubusercontent.com/CSSEGISandData/COVID-19/master/csse_covid_19_data/csse_covid_19_daily_reports/{date_str}.csv'\n",
        "\n",
        "    case = pd.read_csv(data_source_url, sep=',')\n",
        "\n",
        "    case = case.drop(['FIPS', 'Admin2', 'Last_Update', 'Lat', 'Long_', 'Recovered', 'Active', 'Combined_Key', 'Case_Fatality_Ratio'], axis=1)\n",
        "    case = case.query('Country_Region == \"Brazil\"').reset_index(drop=True)\n",
        "    case['Date'] = pd.to_datetime(date.strftime('%Y-%m-%d'))\n",
        "\n",
        "    if cases_is_empty:\n",
        "        cases = case\n",
        "        cases_is_empty = False\n",
        "    else:\n",
        "        cases = pd.concat([cases, case], ignore_index=True)\n"
      ],
      "metadata": {
        "id": "-g3E-Ya4H4O1"
      },
      "execution_count": null,
      "outputs": []
    },
    {
      "cell_type": "code",
      "source": [
        "cases.query('Province_State == \"Sao Paulo\"').head()"
      ],
      "metadata": {
        "id": "nOYxy_zMKBin"
      },
      "execution_count": null,
      "outputs": []
    },
    {
      "cell_type": "markdown",
      "source": [
        "#### **2.1.2. Wrangling**"
      ],
      "metadata": {
        "id": "Z3HiqQRkOMGc"
      }
    },
    {
      "cell_type": "markdown",
      "source": [
        "Vamos manipular os dados para o dashboard. O foco é em garantir uma boa granularidade e qualidade da base de dados."
      ],
      "metadata": {
        "id": "ceDNL40JzB0K"
      }
    },
    {
      "cell_type": "code",
      "source": [
        "cases.head()"
      ],
      "metadata": {
        "id": "G66lP6tOqya_"
      },
      "execution_count": null,
      "outputs": []
    },
    {
      "cell_type": "code",
      "source": [
        "cases.shape"
      ],
      "metadata": {
        "id": "Z4yQeP4bVCC5"
      },
      "execution_count": null,
      "outputs": []
    },
    {
      "cell_type": "code",
      "source": [
        "cases.info()"
      ],
      "metadata": {
        "id": "pRs8xDlcU-y0"
      },
      "execution_count": null,
      "outputs": []
    },
    {
      "cell_type": "markdown",
      "source": [
        "Começamos com o nome das colunas."
      ],
      "metadata": {
        "id": "hgFFhUQgzFZ8"
      }
    },
    {
      "cell_type": "code",
      "source": [
        "cases = cases.rename(\n",
        "  columns={\n",
        "    'Province_State': 'state',\n",
        "    'Country_Region': 'country'\n",
        "  }\n",
        ")\n",
        "\n",
        "for col in cases.columns:\n",
        "  cases = cases.rename(columns={col: col.lower()})"
      ],
      "metadata": {
        "id": "1w9pQ8d_UCJO"
      },
      "execution_count": null,
      "outputs": []
    },
    {
      "cell_type": "markdown",
      "source": [
        "Ajustamos o nome dos estados."
      ],
      "metadata": {
        "id": "q2p4qjZUn-e2"
      }
    },
    {
      "cell_type": "code",
      "source": [
        "states_map = {\n",
        "    'Amapa': 'Amapá',\n",
        "    'Ceara': 'Ceará',\n",
        "    'Espirito Santo': 'Espírito Santo',\n",
        "    'Goias': 'Goiás',\n",
        "    'Para': 'Pará',\n",
        "    'Paraiba': 'Paraíba',\n",
        "    'Parana': 'Paraná',\n",
        "    'Piaui': 'Piauí',\n",
        "    'Rondonia': 'Rondônia',\n",
        "    'Sao Paulo': 'São Paulo'\n",
        "}\n",
        "\n",
        "cases['state'] = cases['state'].apply(lambda state: states_map.get(state) if state in states_map.keys() else state)"
      ],
      "metadata": {
        "id": "LBajRRZEnlms"
      },
      "execution_count": null,
      "outputs": []
    },
    {
      "cell_type": "markdown",
      "source": [
        "Vamos então computar novas colunas para enriquecer a base de dados."
      ],
      "metadata": {
        "id": "niRCU0-JzHV2"
      }
    },
    {
      "cell_type": "markdown",
      "source": [
        " - Chaves temporais:"
      ],
      "metadata": {
        "id": "V8Ijno5d28L-"
      }
    },
    {
      "cell_type": "code",
      "source": [
        "cases['month'] = cases['date'].apply(lambda date: date.strftime('%Y-%m'))\n",
        "cases['year']  = cases['date'].apply(lambda date: date.strftime('%Y'))"
      ],
      "metadata": {
        "id": "uRYhqYtRYYPI"
      },
      "execution_count": null,
      "outputs": []
    },
    {
      "cell_type": "markdown",
      "source": [
        " - População estimada do estado:"
      ],
      "metadata": {
        "id": "d9tjVG7o2_IT"
      }
    },
    {
      "cell_type": "code",
      "source": [
        "cases['population'] = round(100000 * (cases['confirmed'] / cases['incident_rate']))\n",
        "cases = cases.drop('incident_rate', axis=1)"
      ],
      "metadata": {
        "id": "1U6wV_zngbZW"
      },
      "execution_count": null,
      "outputs": []
    },
    {
      "cell_type": "markdown",
      "source": [
        " - Número, média móvel (7 dias) e estabilidade (14 dias) de casos e mortes por estado:"
      ],
      "metadata": {
        "id": "LCxMEJP53E3v"
      }
    },
    {
      "cell_type": "markdown",
      "source": [
        "| 1 | 2 | 3 | 4 | 5 | 6 | <font color='red'>7</font> | <font color='green'>8</font> | 9 | 10 | 11 | 12 | 13 | <font color='blue'>14<font color='red'> | 15 | 16 | 17 | 18 | 19 | 20 | 21 |\n",
        "| - | - | - | - | - | - | - | - | - | -- | -- | -- | -- | -- | -- | -- | -- | -- | -- | -- | -- |\n",
        "| <font color='red'>D-6</font> | <font color='red'>D-5</font> | <font color='red'>D-4</font> | <font color='red'>D-3</font> | <font color='red'>D-2</font> | <font color='red'>D-1</font> | <font color='red'>D0</font> | | | | | | | | | | | | | | |\n",
        "| D-7 | <font color='green'>D-6</font> | <font color='green'>D-5</font> | <font color='green'>D-4</font> | <font color='green'>D-3</font> | <font color='green'>D-2</font> | <font color='green'>D-1</font> | <font color='green'>D0</font> | | | | | | | | | | | | | |\n",
        "| D-13 | D-12 | D-11 | D-10 | D-9 | D-8 | D-7 | <font color='blue'>D-6</font> | <font color='blue'>D-5</font> | <font color='blue'>D-4</font> | <font color='blue'>D-3</font> | <font color='blue'>D-2</font> | <font color='blue'>D-1</font> | <font color='blue'>D0</font> | | | | | | | |"
      ],
      "metadata": {
        "id": "ZSHsw4H1oyjI"
      }
    },
    {
      "cell_type": "code",
      "source": [
        "cases_ = None\n",
        "cases_is_empty = True\n",
        "\n",
        "def get_trend(rate: float) -> str:\n",
        "\n",
        "  if np.isnan(rate):\n",
        "    return np.NaN\n",
        "\n",
        "  if rate < 0.75:\n",
        "    status = 'downward'\n",
        "  elif rate > 1.15:\n",
        "    status = 'upward'\n",
        "  else:\n",
        "    status = 'stable'\n",
        "\n",
        "  return status\n",
        "\n",
        "\n",
        "for state in cases['state'].drop_duplicates():\n",
        "\n",
        "  cases_per_state = cases.query(f'state == \"{state}\"').reset_index(drop=True)\n",
        "  cases_per_state = cases_per_state.sort_values(by=['date'])\n",
        "\n",
        "  cases_per_state['confirmed_1d'] = cases_per_state['confirmed'].diff(periods=1)\n",
        "  cases_per_state['confirmed_moving_avg_7d'] = np.ceil(cases_per_state['confirmed_1d'].rolling(window=7).mean())\n",
        "  cases_per_state['confirmed_moving_avg_7d_rate_14d'] = cases_per_state['confirmed_moving_avg_7d']/cases_per_state['confirmed_moving_avg_7d'].shift(periods=14)\n",
        "  cases_per_state['confirmed_trend'] = cases_per_state['confirmed_moving_avg_7d_rate_14d'].apply(get_trend)\n",
        "\n",
        "  cases_per_state['deaths_1d'] = cases_per_state['deaths'].diff(periods=1)\n",
        "  cases_per_state['deaths_moving_avg_7d'] = np.ceil(cases_per_state['deaths_1d'].rolling(window=7).mean())\n",
        "  cases_per_state['deaths_moving_avg_7d_rate_14d'] = cases_per_state['deaths_moving_avg_7d']/cases_per_state['deaths_moving_avg_7d'].shift(periods=14)\n",
        "  cases_per_state['deaths_trend'] = cases_per_state['deaths_moving_avg_7d_rate_14d'].apply(get_trend)\n",
        "\n",
        "  if cases_is_empty:\n",
        "    cases_ = cases_per_state\n",
        "    cases_is_empty = False\n",
        "  else:\n",
        "    cases_ = pd.concat([cases_, cases_per_state], ignore_index=True)\n",
        "\n",
        "cases = cases_\n",
        "cases_ = None"
      ],
      "metadata": {
        "id": "8ytrpaND3ZMQ"
      },
      "execution_count": null,
      "outputs": []
    },
    {
      "cell_type": "markdown",
      "source": [
        "Garantir o tipo do dado é fundamental para consistência da base de dados. Vamos fazer o *type casting* das colunas."
      ],
      "metadata": {
        "id": "hisru_0i07Pg"
      }
    },
    {
      "cell_type": "code",
      "source": [
        "cases['population'] = cases['population'].astype('Int64')\n",
        "cases['confirmed_1d'] = cases['confirmed_1d'].astype('Int64')\n",
        "cases['confirmed_moving_avg_7d'] = cases['confirmed_moving_avg_7d'].astype('Int64')\n",
        "cases['deaths_1d'] = cases['deaths_1d'].astype('Int64')\n",
        "cases['deaths_moving_avg_7d'] = cases['deaths_moving_avg_7d'].astype('Int64')"
      ],
      "metadata": {
        "id": "p7nalDg6KvFZ"
      },
      "execution_count": null,
      "outputs": []
    },
    {
      "cell_type": "markdown",
      "source": [
        "Por fim, vamos reorganizar as colunas e conferir o resultado final."
      ],
      "metadata": {
        "id": "LOwQaxtfgYka"
      }
    },
    {
      "cell_type": "code",
      "source": [
        "cases = cases[['date', 'country', 'state', 'population', 'confirmed', 'confirmed_1d', 'confirmed_moving_avg_7d', 'confirmed_moving_avg_7d_rate_14d', 'confirmed_trend', 'deaths', 'deaths_1d', 'deaths_moving_avg_7d', 'deaths_moving_avg_7d_rate_14d', 'deaths_trend', 'month', 'year']]"
      ],
      "metadata": {
        "id": "6fkkdIXVZL-E"
      },
      "execution_count": null,
      "outputs": []
    },
    {
      "cell_type": "code",
      "source": [
        "cases.head(n=25)"
      ],
      "metadata": {
        "id": "wUZetbA5zNO8"
      },
      "execution_count": null,
      "outputs": []
    },
    {
      "cell_type": "markdown",
      "source": [
        "#### **2.1.3. Carregamento**"
      ],
      "metadata": {
        "id": "KaLl8zdofQwE"
      }
    },
    {
      "cell_type": "markdown",
      "source": [
        "Com os dados manipulados, vamos persisti-lo em disco, fazer o seu download e carrega-lo no Google Data Studio."
      ],
      "metadata": {
        "id": "b1vD9VLafQwG"
      }
    },
    {
      "cell_type": "code",
      "source": [
        "cases.to_csv('./covid-cases.csv', sep=',', index=False)"
      ],
      "metadata": {
        "id": "mAazd-g0fQwG"
      },
      "execution_count": null,
      "outputs": []
    },
    {
      "cell_type": "markdown",
      "source": [
        "### **2.2. Vacinação**"
      ],
      "metadata": {
        "id": "ndJlwEdGpvRO"
      }
    },
    {
      "cell_type": "markdown",
      "source": [
        "Vamos processar os dados de **vacinação** da universidade de Oxford."
      ],
      "metadata": {
        "id": "4KimqDnGbHbI"
      }
    },
    {
      "cell_type": "markdown",
      "source": [
        "#### **2.2.1. Extração**"
      ],
      "metadata": {
        "id": "3SsBfzTOUwZh"
      }
    },
    {
      "cell_type": "markdown",
      "source": [
        "Os dados estão compilados em um único arquivo."
      ],
      "metadata": {
        "id": "k6ZYYdAKRQGS"
      }
    },
    {
      "cell_type": "code",
      "metadata": {
        "id": "G8nM5lc0USbd"
      },
      "source": [
        "vaccines = pd.read_csv('https://covid.ourworldindata.org/data/owid-covid-data.csv', sep=',', parse_dates=[3], infer_datetime_format=True)"
      ],
      "execution_count": null,
      "outputs": []
    },
    {
      "cell_type": "code",
      "metadata": {
        "id": "UCLtev1dUnuY"
      },
      "source": [
        "vaccines.head()"
      ],
      "execution_count": null,
      "outputs": []
    },
    {
      "cell_type": "markdown",
      "source": [
        "Vamos selecionar as colunas de interesse e as linhas referentes ao Brasil."
      ],
      "metadata": {
        "id": "ImybLrrgRS4v"
      }
    },
    {
      "cell_type": "code",
      "metadata": {
        "id": "4RNfnnUZW6DY"
      },
      "source": [
        "vaccines = vaccines.query('location == \"Brazil\"').reset_index(drop=True)\n",
        "vaccines = vaccines[['location', 'population', 'total_vaccinations', 'people_vaccinated', 'people_fully_vaccinated', 'total_boosters', 'date']]"
      ],
      "execution_count": null,
      "outputs": []
    },
    {
      "cell_type": "code",
      "source": [
        "vaccines.head()"
      ],
      "metadata": {
        "id": "e4kmFIpkPm1s"
      },
      "execution_count": null,
      "outputs": []
    },
    {
      "cell_type": "markdown",
      "source": [
        "#### **2.2.2. Wrangling**"
      ],
      "metadata": {
        "id": "ANfJty-Iff4F"
      }
    },
    {
      "cell_type": "markdown",
      "source": [
        "Vamos manipular os dados para o dashboard. O foco é em garantir uma boa granularidade e qualidade da base de dados."
      ],
      "metadata": {
        "id": "XVh6eEL3zSqm"
      }
    },
    {
      "cell_type": "code",
      "source": [
        "vaccines.head()"
      ],
      "metadata": {
        "id": "zl5Elp43flYU"
      },
      "execution_count": null,
      "outputs": []
    },
    {
      "cell_type": "code",
      "source": [
        "vaccines.shape"
      ],
      "metadata": {
        "id": "GOH412CJflYV"
      },
      "execution_count": null,
      "outputs": []
    },
    {
      "cell_type": "code",
      "source": [
        "vaccines.info()"
      ],
      "metadata": {
        "id": "QV6H5gl6flYW"
      },
      "execution_count": null,
      "outputs": []
    },
    {
      "cell_type": "markdown",
      "source": [
        "Vamos começar tratando os dados faltantes, a estratégia será a de preencher os buracos com o valor anterior válido mais próximo."
      ],
      "metadata": {
        "id": "L5CaqVEzzaYH"
      }
    },
    {
      "cell_type": "code",
      "source": [
        "vaccines = vaccines.fillna(method='ffill')"
      ],
      "metadata": {
        "id": "7UlhJa5M0fMz"
      },
      "execution_count": null,
      "outputs": []
    },
    {
      "cell_type": "markdown",
      "source": [
        "Vamos também filtrar a base de dados de acordo com a coluna `date` para garantir que ambas as bases de dados tratam do mesmo período de tempo."
      ],
      "metadata": {
        "id": "GibNnv1hfe8t"
      }
    },
    {
      "cell_type": "code",
      "source": [
        "vaccines = vaccines[(vaccines['date'] >= '2021-01-01') & (vaccines['date'] <= '2021-12-31')].reset_index(drop=True)"
      ],
      "metadata": {
        "id": "bB8n5Nq0e51M"
      },
      "execution_count": null,
      "outputs": []
    },
    {
      "cell_type": "markdown",
      "source": [
        "Agora, vamos alterar o nome das colunas."
      ],
      "metadata": {
        "id": "HeVzXS5pzUyh"
      }
    },
    {
      "cell_type": "code",
      "source": [
        "vaccines = vaccines.rename(\n",
        "  columns={\n",
        "    'location': 'country',\n",
        "    'total_vaccinations': 'total',\n",
        "    'people_vaccinated': 'one_shot',\n",
        "    'people_fully_vaccinated': 'two_shots',\n",
        "    'total_boosters': 'three_shots',\n",
        "  }\n",
        ")"
      ],
      "metadata": {
        "id": "onD0FAQ2fuZG"
      },
      "execution_count": null,
      "outputs": []
    },
    {
      "cell_type": "markdown",
      "source": [
        "Vamos então computar novas colunas para enriquecer a base de dados."
      ],
      "metadata": {
        "id": "3WEwZVW8zZdQ"
      }
    },
    {
      "cell_type": "markdown",
      "source": [
        " - Chaves temporais:"
      ],
      "metadata": {
        "id": "TtVVYdEn1xBu"
      }
    },
    {
      "cell_type": "code",
      "source": [
        "vaccines['month'] = vaccines['date'].apply(lambda date: date.strftime('%Y-%m'))\n",
        "vaccines['year']  = vaccines['date'].apply(lambda date: date.strftime('%Y'))"
      ],
      "metadata": {
        "id": "69n_u8z-fuZI"
      },
      "execution_count": null,
      "outputs": []
    },
    {
      "cell_type": "markdown",
      "source": [
        " - Dados relativos:"
      ],
      "metadata": {
        "id": "RToFxe8s13WZ"
      }
    },
    {
      "cell_type": "code",
      "source": [
        "vaccines['one_shot_perc'] = round(vaccines['one_shot'] / vaccines['population'], 4)\n",
        "vaccines['two_shots_perc'] = round(vaccines['two_shots'] / vaccines['population'], 4)\n",
        "vaccines['three_shots_perc'] = round(vaccines['three_shots'] / vaccines['population'], 4)"
      ],
      "metadata": {
        "id": "0p5fH8yI160u"
      },
      "execution_count": null,
      "outputs": []
    },
    {
      "cell_type": "markdown",
      "source": [
        "Garantir o tipo do dado é fundamental para consistência da base de dados. Vamos fazer o *type casting* das colunas."
      ],
      "metadata": {
        "id": "AwBPeUoH018t"
      }
    },
    {
      "cell_type": "code",
      "source": [
        "vaccines['population'] = vaccines['population'].astype('Int64')\n",
        "vaccines['total'] = vaccines['total'].astype('Int64')\n",
        "vaccines['one_shot'] = vaccines['one_shot'].astype('Int64')\n",
        "vaccines['two_shots'] = vaccines['two_shots'].astype('Int64')\n",
        "vaccines['three_shots'] = vaccines['three_shots'].astype('Int64')"
      ],
      "metadata": {
        "id": "bkebNuXF024g"
      },
      "execution_count": null,
      "outputs": []
    },
    {
      "cell_type": "markdown",
      "source": [
        "Por fim, vamos reorganizar as colunas e conferir o resultado final."
      ],
      "metadata": {
        "id": "R8s4jBC4gUrq"
      }
    },
    {
      "cell_type": "code",
      "source": [
        "vaccines = vaccines[['date', 'country', 'population', 'total', 'one_shot', 'one_shot_perc', 'two_shots', 'two_shots_perc', 'three_shots', 'three_shots_perc', 'month', 'year']]"
      ],
      "metadata": {
        "id": "GRqAQTFxfuZJ"
      },
      "execution_count": null,
      "outputs": []
    },
    {
      "cell_type": "code",
      "source": [
        "vaccines.tail()"
      ],
      "metadata": {
        "id": "RqeuGtCPzXmj"
      },
      "execution_count": null,
      "outputs": []
    },
    {
      "cell_type": "markdown",
      "source": [
        "#### **2.2.3. Carregamento**"
      ],
      "metadata": {
        "id": "yhTcLXpaV5-F"
      }
    },
    {
      "cell_type": "markdown",
      "source": [
        "Com os dados manipulados, vamos persisti-lo em disco, fazer o seu download e carrega-lo no Google Data Studio."
      ],
      "metadata": {
        "id": "ciQaKaE8WDYL"
      }
    },
    {
      "cell_type": "code",
      "source": [
        "vaccines.to_csv('./covid-vaccines.csv', sep=',', index=False)"
      ],
      "metadata": {
        "id": "ur-OHsXIWN_-"
      },
      "execution_count": null,
      "outputs": []
    },
    {
      "cell_type": "markdown",
      "metadata": {
        "id": "PD0FiM7UJOGT"
      },
      "source": [
        "## 3\\. Exploração Interativa de Dados"
      ]
    },
    {
      "cell_type": "markdown",
      "metadata": {
        "id": "AAwJC4RyS0xa"
      },
      "source": [
        "### **3.1. KPIs**"
      ]
    },
    {
      "cell_type": "markdown",
      "metadata": {
        "id": "9LIHnwDuiN47"
      },
      "source": [
        "O dashboard de dados contem os seguintes indicadores chaves de desempenho (*key performance indicator* ou KPI) consolidados:"
      ]
    },
    {
      "cell_type": "markdown",
      "source": [
        "1. Casos e mortes nas 24 horas;\n",
        "1. Média móvel (7 dias) de casos e mortes;\n",
        "1. Tendência de casos e mortes;\n",
        "1. Proporção de vacinados com 1ª, 2ª e 3ª doses."
      ],
      "metadata": {
        "id": "rllIx255dOOu"
      }
    },
    {
      "cell_type": "markdown",
      "source": [
        "### **3.2. EDA**"
      ],
      "metadata": {
        "id": "QGWv8lw5YdUC"
      }
    },
    {
      "cell_type": "markdown",
      "source": [
        "O dashboard de dados contem os seguintes gráficos para a análise exploratória de dados (*exploratory data analysis*\n",
        "ou EDA) interativa:"
      ],
      "metadata": {
        "id": "AZPbGM3cdOyi"
      }
    },
    {
      "cell_type": "markdown",
      "source": [
        "1. Distribuição do números de casos e mortes ao longo do tempo;\n",
        "1. Distribuição da média móvel (7 dias) do números de casos e mortes ao longo do tempo;\n",
        "1. Distribuição geográfica dos casos por estado por dia."
      ],
      "metadata": {
        "id": "QuzfB5PmYjS9"
      }
    },
    {
      "cell_type": "markdown",
      "source": [
        "## 4\\. Storytelling"
      ],
      "metadata": {
        "id": "fGmO0I_ae62k"
      }
    },
    {
      "cell_type": "markdown",
      "source": [
        "Resumo : Dividimos o nosso trabalho em duas etapas :\n",
        "\n",
        "**Primeiro** preparamos os dados no google colab em python , extração. manipulação\n",
        "e carregamento dos dados. Casos de covid e vacinação.\n",
        "\n",
        "**Segundo** Com os dados preparados importamos ele dentro do datastudio, criando nossas fontes de dados e nossos relatórios (dashbord).\n",
        "\n",
        "\n"
      ],
      "metadata": {
        "id": "QtEKEHjAdaJG"
      }
    }
  ]
}